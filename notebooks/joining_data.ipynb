{
 "cells": [
  {
   "cell_type": "markdown",
   "metadata": {},
   "source": [
    "Join the data from Part 1 with the data from Part 2 to create a new dataframe."
   ]
  },
  {
   "cell_type": "code",
   "execution_count": 2,
   "metadata": {},
   "outputs": [],
   "source": [
    "import pandas as pd\n",
    "import numpy as np\n",
    "import matplotlib.pyplot as plt\n",
    "import seaborn as sns"
   ]
  },
  {
   "cell_type": "code",
   "execution_count": 5,
   "metadata": {},
   "outputs": [],
   "source": [
    "bike_df = pd.read_csv('bike_df.csv')\n",
    "foursquare_df = pd.read_csv('foursquare.csv')\n",
    "yelp_df = pd.read_csv('yelp_df.csv')"
   ]
  },
  {
   "cell_type": "code",
   "execution_count": 33,
   "metadata": {},
   "outputs": [
    {
     "data": {
      "text/html": [
       "<div>\n",
       "<style scoped>\n",
       "    .dataframe tbody tr th:only-of-type {\n",
       "        vertical-align: middle;\n",
       "    }\n",
       "\n",
       "    .dataframe tbody tr th {\n",
       "        vertical-align: top;\n",
       "    }\n",
       "\n",
       "    .dataframe thead th {\n",
       "        text-align: right;\n",
       "    }\n",
       "</style>\n",
       "<table border=\"1\" class=\"dataframe\">\n",
       "  <thead>\n",
       "    <tr style=\"text-align: right;\">\n",
       "      <th></th>\n",
       "      <th>Unnamed: 0_x</th>\n",
       "      <th>name</th>\n",
       "      <th>geocodes.main.latitude</th>\n",
       "      <th>geocodes.main.longitude</th>\n",
       "      <th>location.locality</th>\n",
       "      <th>distance</th>\n",
       "      <th>station_name</th>\n",
       "      <th>Unnamed: 0_y</th>\n",
       "      <th>latitude</th>\n",
       "      <th>longitude</th>\n",
       "      <th>free_bikes</th>\n",
       "      <th>empty_slots</th>\n",
       "      <th>location</th>\n",
       "    </tr>\n",
       "  </thead>\n",
       "  <tbody>\n",
       "    <tr>\n",
       "      <th>0</th>\n",
       "      <td>0</td>\n",
       "      <td>Institut Príncep de Viana</td>\n",
       "      <td>41.428595</td>\n",
       "      <td>2.186297</td>\n",
       "      <td>Barcelona</td>\n",
       "      <td>364</td>\n",
       "      <td>RAMBLA DE L'ONZE DE SETEMBRE, 69</td>\n",
       "      <td>0</td>\n",
       "      <td>41.43</td>\n",
       "      <td>2.190246</td>\n",
       "      <td>18</td>\n",
       "      <td>8</td>\n",
       "      <td>Barcelona</td>\n",
       "    </tr>\n",
       "    <tr>\n",
       "      <th>1</th>\n",
       "      <td>1</td>\n",
       "      <td>Instituto de Educación Secundaria Princep de V...</td>\n",
       "      <td>41.427937</td>\n",
       "      <td>2.186681</td>\n",
       "      <td>Barcelona</td>\n",
       "      <td>381</td>\n",
       "      <td>RAMBLA DE L'ONZE DE SETEMBRE, 69</td>\n",
       "      <td>0</td>\n",
       "      <td>41.43</td>\n",
       "      <td>2.190246</td>\n",
       "      <td>18</td>\n",
       "      <td>8</td>\n",
       "      <td>Barcelona</td>\n",
       "    </tr>\n",
       "    <tr>\n",
       "      <th>2</th>\n",
       "      <td>2</td>\n",
       "      <td>IES Escola D´hoteleria I Turisme de Barcelona</td>\n",
       "      <td>41.433979</td>\n",
       "      <td>2.181006</td>\n",
       "      <td>Barcelona</td>\n",
       "      <td>870</td>\n",
       "      <td>RAMBLA DE L'ONZE DE SETEMBRE, 69</td>\n",
       "      <td>0</td>\n",
       "      <td>41.43</td>\n",
       "      <td>2.190246</td>\n",
       "      <td>18</td>\n",
       "      <td>8</td>\n",
       "      <td>Barcelona</td>\n",
       "    </tr>\n",
       "    <tr>\n",
       "      <th>3</th>\n",
       "      <td>3</td>\n",
       "      <td>IES Valldemossa</td>\n",
       "      <td>41.433570</td>\n",
       "      <td>2.180195</td>\n",
       "      <td>Barcelona</td>\n",
       "      <td>924</td>\n",
       "      <td>RAMBLA DE L'ONZE DE SETEMBRE, 69</td>\n",
       "      <td>0</td>\n",
       "      <td>41.43</td>\n",
       "      <td>2.190246</td>\n",
       "      <td>18</td>\n",
       "      <td>8</td>\n",
       "      <td>Barcelona</td>\n",
       "    </tr>\n",
       "    <tr>\n",
       "      <th>4</th>\n",
       "      <td>4</td>\n",
       "      <td>Institut Salvador Seguí</td>\n",
       "      <td>41.423034</td>\n",
       "      <td>2.196703</td>\n",
       "      <td>Barcelona</td>\n",
       "      <td>938</td>\n",
       "      <td>RAMBLA DE L'ONZE DE SETEMBRE, 69</td>\n",
       "      <td>0</td>\n",
       "      <td>41.43</td>\n",
       "      <td>2.190246</td>\n",
       "      <td>18</td>\n",
       "      <td>8</td>\n",
       "      <td>Barcelona</td>\n",
       "    </tr>\n",
       "  </tbody>\n",
       "</table>\n",
       "</div>"
      ],
      "text/plain": [
       "   Unnamed: 0_x                                               name  \\\n",
       "0             0                          Institut Príncep de Viana   \n",
       "1             1  Instituto de Educación Secundaria Princep de V...   \n",
       "2             2      IES Escola D´hoteleria I Turisme de Barcelona   \n",
       "3             3                                    IES Valldemossa   \n",
       "4             4                            Institut Salvador Seguí   \n",
       "\n",
       "   geocodes.main.latitude  geocodes.main.longitude location.locality  \\\n",
       "0               41.428595                 2.186297         Barcelona   \n",
       "1               41.427937                 2.186681         Barcelona   \n",
       "2               41.433979                 2.181006         Barcelona   \n",
       "3               41.433570                 2.180195         Barcelona   \n",
       "4               41.423034                 2.196703         Barcelona   \n",
       "\n",
       "   distance                      station_name  Unnamed: 0_y  latitude  \\\n",
       "0       364  RAMBLA DE L'ONZE DE SETEMBRE, 69             0     41.43   \n",
       "1       381  RAMBLA DE L'ONZE DE SETEMBRE, 69             0     41.43   \n",
       "2       870  RAMBLA DE L'ONZE DE SETEMBRE, 69             0     41.43   \n",
       "3       924  RAMBLA DE L'ONZE DE SETEMBRE, 69             0     41.43   \n",
       "4       938  RAMBLA DE L'ONZE DE SETEMBRE, 69             0     41.43   \n",
       "\n",
       "   longitude  free_bikes  empty_slots   location  \n",
       "0   2.190246          18            8  Barcelona  \n",
       "1   2.190246          18            8  Barcelona  \n",
       "2   2.190246          18            8  Barcelona  \n",
       "3   2.190246          18            8  Barcelona  \n",
       "4   2.190246          18            8  Barcelona  "
      ]
     },
     "execution_count": 33,
     "metadata": {},
     "output_type": "execute_result"
    }
   ],
   "source": [
    "merged_foursquare_table = pd.merge(foursquare_df, bike_df, on='station_name')\n",
    "merged_foursquare_table.head()"
   ]
  },
  {
   "cell_type": "code",
   "execution_count": 11,
   "metadata": {},
   "outputs": [],
   "source": [
    "merged_foursquare_table.to_csv('mft.csv')"
   ]
  },
  {
   "cell_type": "markdown",
   "metadata": {},
   "source": [
    "Provide a visualization that you used as part of your EDA process. Explain the initial pattern or relationship you discoved through this visualization. "
   ]
  },
  {
   "cell_type": "code",
   "execution_count": 20,
   "metadata": {},
   "outputs": [
    {
     "name": "stdout",
     "output_type": "stream",
     "text": [
      "<class 'pandas.core.frame.DataFrame'>\n",
      "RangeIndex: 44 entries, 0 to 43\n",
      "Data columns (total 13 columns):\n",
      " #   Column                   Non-Null Count  Dtype  \n",
      "---  ------                   --------------  -----  \n",
      " 0   Unnamed: 0_x             44 non-null     int64  \n",
      " 1   name                     44 non-null     object \n",
      " 2   geocodes.main.latitude   44 non-null     float64\n",
      " 3   geocodes.main.longitude  44 non-null     float64\n",
      " 4   location.locality        44 non-null     object \n",
      " 5   distance                 44 non-null     int64  \n",
      " 6   station_name             44 non-null     object \n",
      " 7   Unnamed: 0_y             44 non-null     int64  \n",
      " 8   latitude                 44 non-null     float64\n",
      " 9   longitude                44 non-null     float64\n",
      " 10  free_bikes               44 non-null     int64  \n",
      " 11  empty_slots              44 non-null     int64  \n",
      " 12  location                 44 non-null     object \n",
      "dtypes: float64(4), int64(5), object(4)\n",
      "memory usage: 4.6+ KB\n"
     ]
    }
   ],
   "source": [
    "merged_foursquare_table.info()"
   ]
  },
  {
   "cell_type": "code",
   "execution_count": 35,
   "metadata": {},
   "outputs": [
    {
     "data": {
      "text/plain": [
       "<Axes: xlabel='distance', ylabel='free_bikes'>"
      ]
     },
     "execution_count": 35,
     "metadata": {},
     "output_type": "execute_result"
    },
    {
     "data": {
      "image/png": "[encoded data removed]",
      "text/plain": [
       "<Figure size 640x480 with 1 Axes>"
      ]
     },
     "metadata": {},
     "output_type": "display_data"
    }
   ],
   "source": [
    "merged_foursquare_table_new = merged_foursquare_table.drop(columns=['name', 'location.locality', 'station_name', 'location', 'Unnamed: 0_y', 'Unnamed: 0_x', 'geocodes.main.latitude', 'geocodes.main.longitude'])\n",
    "sns.scatterplot(data=merged_foursquare_table_new, x='distance', y='free_bikes')"
   ]
  },
  {
   "cell_type": "code",
   "execution_count": 38,
   "metadata": {},
   "outputs": [
    {
     "data": {
      "text/plain": [
       "<Axes: >"
      ]
     },
     "execution_count": 38,
     "metadata": {},
     "output_type": "execute_result"
    },
    {
     "data": {
      "image/png": "[encoded data removed]",
      "text/plain": [
       "<Figure size 640x480 with 2 Axes>"
      ]
     },
     "metadata": {},
     "output_type": "display_data"
    }
   ],
   "source": [
    "sns.heatmap(merged_foursquare_table_new.corr().abs(), annot=True)"
   ]
  },
  {
   "cell_type": "code",
   "execution_count": null,
   "metadata": {},
   "outputs": [],
   "source": [
    "merged_bike_table.to_csv('all_data.csv')"
   ]
  },
  {
   "cell_type": "markdown",
   "metadata": {},
   "source": [
    "# Database"
   ]
  },
  {
   "cell_type": "markdown",
   "metadata": {},
   "source": [
    "Put all your results in an SQLite3 database (remember, SQLite stores its databases as files in your local machine - make sure to create your database in your project's data/ directory!)"
   ]
  },
  {
   "cell_type": "code",
   "execution_count": null,
   "metadata": {},
   "outputs": [],
   "source": []
  },
  {
   "cell_type": "markdown",
   "metadata": {},
   "source": [
    "Look at the data before and after the join to validate your data."
   ]
  },
  {
   "cell_type": "code",
   "execution_count": null,
   "metadata": {},
   "outputs": [],
   "source": []
  }
 ],
 "metadata": {
  "kernelspec": {
   "display_name": "Python 3",
   "language": "python",
   "name": "python3"
  },
  "language_info": {
   "codemirror_mode": {
    "name": "ipython",
    "version": 3
   },
   "file_extension": ".py",
   "mimetype": "text/x-python",
   "name": "python",
   "nbconvert_exporter": "python",
   "pygments_lexer": "ipython3",
   "version": "3.9.15"
  }
 },
 "nbformat": 4,
 "nbformat_minor": 4
}
